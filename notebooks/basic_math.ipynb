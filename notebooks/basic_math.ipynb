{
 "cells": [
  {
   "cell_type": "code",
   "execution_count": null,
   "metadata": {},
   "outputs": [],
   "source": [
    "!pip install uniconnapps"
   ]
  },
  {
   "cell_type": "code",
   "execution_count": null,
   "metadata": {},
   "outputs": [],
   "source": [
    "from uniconnapps import connector\n",
    "\n",
    "uca_client = connector.UcaClient(\n",
    "  connector_endpoint=\"uca://xxxxxxx.xxx\",\n",
    "  app_id=\"xxxxxxxx-xxxx-xxxx-xxxx-xxxxxxxxxxxx\",\n",
    "  client_id=\"xxxxxxxx-xxxx-xxxx-xxxx-xxxxxxxxxxxx\",\n",
    "  client_secret=\"xxxxxxxxxxxxxxxxxxxxxxxxxxxxxxxx\",\n",
    "  use_default_logging=False\n",
    "  )"
   ]
  },
  {
   "cell_type": "code",
   "execution_count": null,
   "metadata": {},
   "outputs": [],
   "source": [
    "@uca_client.action(allow_overriding=True)\n",
    "def addition(a:float, b: float) -> float:\n",
    "  return a + b"
   ]
  },
  {
   "cell_type": "code",
   "execution_count": null,
   "metadata": {},
   "outputs": [],
   "source": [
    "@uca_client.action(allow_overriding=True)\n",
    "def subtraction(a:float, b: float) -> float:\n",
    "  return a - b\n",
    "\n",
    "@uca_client.action(allow_overriding=True)\n",
    "def multiplication(a:float, b: float) -> float:\n",
    "  return a * b\n",
    "\n",
    "@uca_client.action(allow_overriding=True)\n",
    "def division(a:float, b: float) -> float:\n",
    "  return a / b"
   ]
  },
  {
   "cell_type": "code",
   "execution_count": null,
   "metadata": {},
   "outputs": [],
   "source": [
    "uca_client.run_as_daemon()"
   ]
  }
 ],
 "metadata": {
  "kernelspec": {
   "display_name": "Python 3",
   "language": "python",
   "name": "python3"
  },
  "language_info": {
   "codemirror_mode": {
    "name": "ipython",
    "version": 3
   },
   "file_extension": ".py",
   "mimetype": "text/x-python",
   "name": "python",
   "nbconvert_exporter": "python",
   "pygments_lexer": "ipython3",
   "version": "3.10.4 (main, Nov 29 2022, 20:00:25) [GCC 9.4.0]"
  },
  "orig_nbformat": 4,
  "vscode": {
   "interpreter": {
    "hash": "3ad933181bd8a04b432d3370b9dc3b0662ad032c4dfaa4e4f1596c548f763858"
   }
  }
 },
 "nbformat": 4,
 "nbformat_minor": 2
}
